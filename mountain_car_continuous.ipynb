{
  "nbformat": 4,
  "nbformat_minor": 0,
  "metadata": {
    "colab": {
      "name": "mountain_car_continuous.ipynb",
      "provenance": [],
      "collapsed_sections": []
    },
    "kernelspec": {
      "name": "python3",
      "display_name": "Python 3"
    }
  },
  "cells": [
    {
      "cell_type": "code",
      "metadata": {
        "id": "ZSxEK9JLF1Ul",
        "colab_type": "code",
        "colab": {}
      },
      "source": [
        "import gym\n",
        "import numpy as np\n",
        "import matplotlib.pyplot as plt\n",
        "from mpl_toolkits.mplot3d import Axes3D\n",
        "from tqdm import tqdm\n",
        "%matplotlib inline\n",
        "gamma = 1\n",
        "\n",
        "epsilon = 1\n",
        "epsilon_dec = 1/3000\n",
        "\n",
        "greedy_round_epsilon = 1.0 / 20\n",
        "\n",
        "alpha = 0.2\n",
        "alpha_after_top = 0.05\n",
        "\n",
        "beta = 0.7\n",
        "beta_dec = 0.7/2000\n",
        "\n",
        "_lambda = 0.8\n",
        "\n",
        "top_reached = False\n",
        "\n",
        "shape = (30, 20, 10)\n",
        "env = gym.make('MountainCarContinuous-v0')\n",
        "\n",
        "\n",
        "class Holder:\n",
        "    def __init__(self):\n",
        "        self.Q = np.full(shape=shape, fill_value=0.0, dtype=np.float32)\n",
        "        self.theta = np.full(shape=shape, fill_value=1.0/shape[2], dtype=np.float32)\n",
        "\n",
        "\n",
        "def _get_action_value_from_index(actions_ind):\n",
        "    lowest_action_of_index = actions_ind/5.0 - 1\n",
        "    avg_action_of_index = lowest_action_of_index + 0.1\n",
        "    return avg_action_of_index\n",
        "\n",
        "\n",
        "def _get_indexes(state, action=None):\n",
        "    pos_ind = (state[0] + 1.2) * 10\n",
        "    vel_ind = (state[1] + 0.07) * 200\n",
        "    if action:\n",
        "        action_ind = (action+1) * 5\n",
        "        if int(action_ind) > 9:\n",
        "            print(\"action: {}\".format(action))\n",
        "            raise\n",
        "        return int(vel_ind), int(pos_ind), int(action_ind)\n",
        "    return int(vel_ind), int(pos_ind)\n",
        "\n",
        "\n",
        "def get_Q_value_function(Q, state, action):\n",
        "    return _get_value_func(Q, state, action)\n",
        "\n",
        "\n",
        "def get_theta_value_function(theta, state, action=None):\n",
        "    \"\"\"if action=None, return array of all actions of state\"\"\"\n",
        "    return _get_value_func(theta, state, action)\n",
        "\n",
        "\n",
        "def update_theta_value_function(theta, state, action=None, value=None):\n",
        "    \"\"\"if action=None, value should be an array\n",
        "     containing values for all actions in this state\"\"\"\n",
        "    _update_value_func(theta, state, action, value)\n",
        "\n",
        "\n",
        "def update_Q_value_function(Q, state, action, value):\n",
        "    _update_value_func(Q, state, action, value)\n",
        "\n",
        "\n",
        "def _get_value_func(obj, s, a):\n",
        "    if a is not None:\n",
        "        vel_ind, pos_ind, action_ind = _get_indexes(s, a)\n",
        "        return obj[vel_ind, pos_ind, action_ind]\n",
        "    else:\n",
        "        vel_ind, pos_ind = _get_indexes(s)\n",
        "        return obj[vel_ind, pos_ind, :]\n",
        "\n",
        "\n",
        "def _update_value_func(obj, s, a, val):\n",
        "    if a is not None:\n",
        "        vel_ind, pos_ind, action_ind = _get_indexes(s, a)\n",
        "        obj[vel_ind, pos_ind, action_ind] = val\n",
        "    else:\n",
        "        vel_ind, pos_ind = _get_indexes(s)\n",
        "        obj[vel_ind, pos_ind, :] = val\n",
        "\n",
        "\n",
        "def get_policy_gradient_vector(holder, state, action):\n",
        "    \"\"\" decision_direction:\n",
        "    -> positive towards the action made\n",
        "    > negative towards all other actions,\n",
        "    with proportion to their strength (probability)\n",
        "    \"\"\"\n",
        "    vel_ind, pos_ind, action_ind = _get_indexes(state, action)\n",
        "    action_direction_vector = np.full(shape=(10,), fill_value=0.0, dtype=np.float32)\n",
        "    action_direction_vector[action_ind] = 1\n",
        "    actions_probability = get_actions_probability(holder, state)\n",
        "    decision_direction = action_direction_vector - actions_probability\n",
        "    return decision_direction\n",
        "\n",
        "\n",
        "def get_advantage_function(holder, state, action):\n",
        "    actions_probability = get_actions_probability(holder, state)\n",
        "    vel_ind, pos_ind, action_ind = _get_indexes(state, action)\n",
        "    actions_value = holder.Q[vel_ind, pos_ind, :]\n",
        "    expectancy_reward_from_state = actions_probability @ actions_value\n",
        "    reward_from_state_action = get_Q_value_function(holder.Q, state, action)\n",
        "    action_advantage = reward_from_state_action - expectancy_reward_from_state\n",
        "    return action_advantage\n",
        "\n",
        "\n",
        "def add_to_E(E, state, action, to_add):\n",
        "    vel_ind, pos_ind, action_ind = _get_indexes(state, action)\n",
        "    E[vel_ind, pos_ind, action_ind] += to_add\n",
        "\n",
        "\n",
        "def get_actions_probability(holder, state):\n",
        "    vel_ind, pos_ind = _get_indexes(state)\n",
        "    actions = holder.theta[vel_ind, pos_ind, :]\n",
        "    actions = actions.astype(np.float128)\n",
        "    _restrict_actions(holder.theta, actions, vel_ind, pos_ind)   # to prevent overflow of exp(theta)\n",
        "\n",
        "    actions_e = np.exp2(actions)\n",
        "    normalized_actions_e = actions_e / np.sum(actions_e)\n",
        "\n",
        "    return normalized_actions_e.astype(np.float32)\n",
        "\n",
        "\n",
        "def _restrict_actions(theta, actions, vel_ind, pos_ind):\n",
        "    _max = np.amax(actions)\n",
        "\n",
        "    if _max > 1000:\n",
        "        actions -= _max\n",
        "\n",
        "    _max = 0\n",
        "    _min = np.amin(actions)\n",
        "    while abs(_max - _min) > 1000:\n",
        "\n",
        "        if np.any(actions == -np.inf):\n",
        "            min_not_inf = np.min([x for x in actions if x != -np.inf])\n",
        "            inf_indexes = np.where(actions == -np.inf)[0]\n",
        "            for ind in inf_indexes:\n",
        "                actions[ind] = min_not_inf\n",
        "            theta[vel_ind, pos_ind, :] = actions\n",
        "\n",
        "        actions /= 1000\n",
        "        _min /= 1000\n",
        "        _max /= 1000\n",
        "\n",
        "    reduced_actions = actions.astype(np.float32)\n",
        "    theta[vel_ind, pos_ind, :] = reduced_actions\n",
        "\n",
        "\n",
        "def sample_action_from_soft_max_policy(holder, state):\n",
        "    actions_probability = get_actions_probability(holder, state)\n",
        "    partition_of_01 = np.cumsum(actions_probability)\n",
        "    partition_of_01 += (1 - np.amax(partition_of_01))  # to ensure last element is exactly 1\n",
        "    r = np.random.random()\n",
        "    action_ind = np.digitize(r, partition_of_01)\n",
        "    return _get_action_value_from_index(action_ind)\n",
        "\n",
        "\n",
        "def _random_action():\n",
        "    return np.random.random()*2 - 1  # uniform(-1,1)\n",
        "\n",
        "\n",
        "def epsilon_sample_action_from_soft_max_policy(holder, state):\n",
        "    if np.random.random() < epsilon:\n",
        "        return _random_action()\n",
        "    else:\n",
        "        return sample_action_from_soft_max_policy(holder, state)\n",
        "\n",
        "\n",
        "def act(action):\n",
        "    next_state, reward, done, _ = env.step([action])\n",
        "    return next_state, reward, done\n",
        "\n",
        "\n",
        "def tune_params(total_reward):\n",
        "    global alpha, beta, epsilon, top_reached\n",
        "    epsilon = max(0.05, epsilon - epsilon_dec)\n",
        "\n",
        "    reward_threshold = 10\n",
        "    if total_reward > reward_threshold and not top_reached:\n",
        "        top_reached = True\n",
        "        alpha = alpha_after_top  # theta\n",
        "\n",
        "    if top_reached:\n",
        "        beta = max(0.05, beta - beta_dec)  # Q\n",
        "\n",
        "\n",
        "def learn(holder, num_episodes, do_greedy_round=False):\n",
        "    for episode in range(1, num_episodes + 1):\n",
        "        E = np.zeros(shape=shape)\n",
        "        state = env.reset()\n",
        "        episode_done = False\n",
        "        steps_counter = 0\n",
        "        total_reward = 0\n",
        "\n",
        "        is_greedy_round = False\n",
        "        if do_greedy_round:\n",
        "            is_greedy_round = np.random.random() < greedy_round_epsilon\n",
        "\n",
        "        if is_greedy_round:\n",
        "            action_sampler = sample_action_from_soft_max_policy\n",
        "        else:\n",
        "            action_sampler = epsilon_sample_action_from_soft_max_policy\n",
        "\n",
        "        action = action_sampler(holder, state)\n",
        "        while not episode_done:\n",
        "            if steps_counter > 200:\n",
        "                break\n",
        "            steps_counter += 1\n",
        "\n",
        "            next_state, reward, episode_done = act(action)\n",
        "            total_reward += reward\n",
        "\n",
        "            next_action = action_sampler(holder, state)\n",
        "\n",
        "            delta = reward + \\\n",
        "                    gamma * get_Q_value_function(holder.Q, next_state, next_action) \\\n",
        "                    - get_Q_value_function(holder.Q, state, action)\n",
        "\n",
        "            # theta\n",
        "            policy_gradient_vector = get_policy_gradient_vector(holder, state, action)\n",
        "            action_advantage_scalar = get_advantage_function(holder, state, action)\n",
        "            theta_state_update = alpha * policy_gradient_vector * action_advantage_scalar\n",
        "            theta_state = get_theta_value_function(holder.theta, state)\n",
        "            update_theta_value_function(holder.theta, state, action=None,\n",
        "                                        value=theta_state + theta_state_update)\n",
        "            # w\n",
        "            add_to_E(E, state, action, 1)\n",
        "            holder.Q = np.add(holder.Q, np.multiply(beta * delta, E))\n",
        "            E = np.multiply(gamma * _lambda, E)\n",
        "\n",
        "            state = next_state\n",
        "            action = next_action\n",
        "\n",
        "        tune_params(total_reward)\n",
        "\n",
        "\n",
        "def test(holder, num_of_tests=10):\n",
        "    rewards = []\n",
        "    for _ in range(num_of_tests):\n",
        "        state = env.reset()\n",
        "        episode_done = False\n",
        "        steps_counter = 0\n",
        "        total_reward = 0\n",
        "        while not episode_done:\n",
        "            if steps_counter > 200:\n",
        "                break\n",
        "            steps_counter += 1\n",
        "\n",
        "            action = sample_action_from_soft_max_policy(holder, state)\n",
        "            next_state, reward, episode_done = act(action)\n",
        "            total_reward += reward\n",
        "            state = next_state\n",
        "\n",
        "        rewards.append(total_reward)\n",
        "    return np.average(rewards), np.var(rewards)\n",
        "\n",
        "\n",
        "def plot_test(num_trials, rewards, _vars):\n",
        "    _vars = [pow(x, 0.5) for x in _vars]\n",
        "    plt.errorbar(num_trials, rewards, yerr=_vars, linestyle='None', marker='o')\n",
        "    plt.grid()\n",
        "    plt.title(\"reward over num of trials\")\n",
        "    plt.xlabel('num of trials')\n",
        "    plt.ylabel('avg. reward over 10 examples')\n",
        "    plt.savefig(\"reward_over_examples.png\")\n",
        "    plt.show()\n",
        "\n",
        "\n",
        "def plot_Q(Q):\n",
        "    fig = plt.figure()\n",
        "    ax = fig.gca(projection='3d')\n",
        "\n",
        "    Q1 = np.zeros((30, 20))\n",
        "    for j in range(30):\n",
        "        for i in range(20):\n",
        "            Q1[j, i] = np.amax(Q[j, i, :])\n",
        "\n",
        "    X = np.arange(-0.6, 0.6, 0.06)\n",
        "    Y = np.arange(-0.6, 1.2, 0.06)\n",
        "    X, Y = np.meshgrid(X, Y)\n",
        "    ax.plot_surface(X, Y, Q1, linewidth=0, antialiased=False)\n",
        "    plt.show()\n"
      ],
      "execution_count": 0,
      "outputs": []
    },
    {
      "cell_type": "code",
      "metadata": {
        "id": "KES5ltK3F5Dj",
        "colab_type": "code",
        "colab": {
          "base_uri": "https://localhost:8080/",
          "height": 822
        },
        "outputId": "0758e4ed-7913-470b-bda6-1a761432a04c"
      },
      "source": [
        "holder = Holder()\n",
        "rewards = []\n",
        "_vars = []\n",
        "learn_periods = np.full(30, 100).tolist()\n",
        "\n",
        "do_learn = True\n",
        "consecutive_times_goal_reached = 0\n",
        "for i in tqdm(range(len(learn_periods))):\n",
        "    learn_period = learn_periods[i]\n",
        "    do_greedy_round = True if i > 12 else False\n",
        "    # do_greedy_round = True if top_reached else False\n",
        "    if do_learn:\n",
        "        learn(holder, learn_period, do_greedy_round=do_greedy_round)\n",
        "\n",
        "    reward, var = test(holder)\n",
        "\n",
        "    print(\"{}00 | avg reward is: {}   |   epsilon: {}   |  alpha: {}   |  beta: {}\".format(\n",
        "        i, np.round(reward, 3), np.round(epsilon, 4), np.round(alpha, 4), np.round(beta, 4)))\n",
        "\n",
        "    rewards.append(reward)\n",
        "    _vars.append(var)\n",
        "\n",
        "    if reward > 90:\n",
        "        consecutive_times_goal_reached += 1\n",
        "    else:\n",
        "        consecutive_times_goal_reached = 0\n",
        "\n",
        "    if consecutive_times_goal_reached >= 5:\n",
        "        do_learn = False\n",
        "\n",
        "plot_test(np.cumsum(learn_periods), rewards, _vars)"
      ],
      "execution_count": 5,
      "outputs": [
        {
          "output_type": "stream",
          "text": [
            "  3%|▎         | 1/30 [00:02<01:20,  2.79s/it]"
          ],
          "name": "stderr"
        },
        {
          "output_type": "stream",
          "text": [
            "000 | avg reward is: -6.655   |   epsilon: 0.8813   |  alpha: 0.2   |  beta: 0.7\n"
          ],
          "name": "stdout"
        },
        {
          "output_type": "stream",
          "text": [
            "\r  7%|▋         | 2/30 [00:05<01:18,  2.81s/it]"
          ],
          "name": "stderr"
        },
        {
          "output_type": "stream",
          "text": [
            "100 | avg reward is: -6.888   |   epsilon: 0.848   |  alpha: 0.2   |  beta: 0.7\n"
          ],
          "name": "stdout"
        },
        {
          "output_type": "stream",
          "text": [
            "\r 10%|█         | 3/30 [00:08<01:17,  2.85s/it]"
          ],
          "name": "stderr"
        },
        {
          "output_type": "stream",
          "text": [
            "200 | avg reward is: -6.679   |   epsilon: 0.8147   |  alpha: 0.2   |  beta: 0.7\n"
          ],
          "name": "stdout"
        },
        {
          "output_type": "stream",
          "text": [
            "\r 13%|█▎        | 4/30 [00:11<01:15,  2.89s/it]"
          ],
          "name": "stderr"
        },
        {
          "output_type": "stream",
          "text": [
            "300 | avg reward is: -6.884   |   epsilon: 0.7813   |  alpha: 0.2   |  beta: 0.7\n"
          ],
          "name": "stdout"
        },
        {
          "output_type": "stream",
          "text": [
            "\r 17%|█▋        | 5/30 [00:14<01:13,  2.92s/it]"
          ],
          "name": "stderr"
        },
        {
          "output_type": "stream",
          "text": [
            "400 | avg reward is: -6.908   |   epsilon: 0.748   |  alpha: 0.2   |  beta: 0.7\n"
          ],
          "name": "stdout"
        },
        {
          "output_type": "stream",
          "text": [
            "\r 20%|██        | 6/30 [00:17<01:11,  2.97s/it]"
          ],
          "name": "stderr"
        },
        {
          "output_type": "stream",
          "text": [
            "500 | avg reward is: -6.907   |   epsilon: 0.7147   |  alpha: 0.2   |  beta: 0.7\n"
          ],
          "name": "stdout"
        },
        {
          "output_type": "stream",
          "text": [
            "\r 23%|██▎       | 7/30 [00:20<01:09,  3.02s/it]"
          ],
          "name": "stderr"
        },
        {
          "output_type": "stream",
          "text": [
            "600 | avg reward is: -6.436   |   epsilon: 0.6813   |  alpha: 0.2   |  beta: 0.7\n"
          ],
          "name": "stdout"
        },
        {
          "output_type": "stream",
          "text": [
            "\r 27%|██▋       | 8/30 [00:24<01:07,  3.08s/it]"
          ],
          "name": "stderr"
        },
        {
          "output_type": "stream",
          "text": [
            "700 | avg reward is: -6.753   |   epsilon: 0.648   |  alpha: 0.2   |  beta: 0.7\n"
          ],
          "name": "stdout"
        },
        {
          "output_type": "stream",
          "text": [
            "\r 30%|███       | 9/30 [00:27<01:05,  3.14s/it]"
          ],
          "name": "stderr"
        },
        {
          "output_type": "stream",
          "text": [
            "800 | avg reward is: -7.088   |   epsilon: 0.6147   |  alpha: 0.2   |  beta: 0.7\n"
          ],
          "name": "stdout"
        },
        {
          "output_type": "stream",
          "text": [
            "\r 33%|███▎      | 10/30 [00:30<01:03,  3.18s/it]"
          ],
          "name": "stderr"
        },
        {
          "output_type": "stream",
          "text": [
            "900 | avg reward is: -7.106   |   epsilon: 0.5813   |  alpha: 0.2   |  beta: 0.7\n"
          ],
          "name": "stdout"
        },
        {
          "output_type": "stream",
          "text": [
            "\r 37%|███▋      | 11/30 [00:33<01:01,  3.23s/it]"
          ],
          "name": "stderr"
        },
        {
          "output_type": "stream",
          "text": [
            "1000 | avg reward is: -7.25   |   epsilon: 0.548   |  alpha: 0.2   |  beta: 0.7\n"
          ],
          "name": "stdout"
        },
        {
          "output_type": "stream",
          "text": [
            "\r 40%|████      | 12/30 [00:37<00:59,  3.29s/it]"
          ],
          "name": "stderr"
        },
        {
          "output_type": "stream",
          "text": [
            "1100 | avg reward is: -5.963   |   epsilon: 0.5147   |  alpha: 0.05   |  beta: 0.6699\n"
          ],
          "name": "stdout"
        },
        {
          "output_type": "stream",
          "text": [
            "\r 43%|████▎     | 13/30 [00:40<00:56,  3.34s/it]"
          ],
          "name": "stderr"
        },
        {
          "output_type": "stream",
          "text": [
            "1200 | avg reward is: -7.46   |   epsilon: 0.4813   |  alpha: 0.05   |  beta: 0.6349\n"
          ],
          "name": "stdout"
        },
        {
          "output_type": "stream",
          "text": [
            "\r 47%|████▋     | 14/30 [00:44<00:54,  3.40s/it]"
          ],
          "name": "stderr"
        },
        {
          "output_type": "stream",
          "text": [
            "1300 | avg reward is: 2.996   |   epsilon: 0.448   |  alpha: 0.05   |  beta: 0.5999\n"
          ],
          "name": "stdout"
        },
        {
          "output_type": "stream",
          "text": [
            "\r 50%|█████     | 15/30 [00:47<00:51,  3.45s/it]"
          ],
          "name": "stderr"
        },
        {
          "output_type": "stream",
          "text": [
            "1400 | avg reward is: 3.128   |   epsilon: 0.4147   |  alpha: 0.05   |  beta: 0.5649\n"
          ],
          "name": "stdout"
        },
        {
          "output_type": "stream",
          "text": [
            "\r 53%|█████▎    | 16/30 [00:51<00:48,  3.48s/it]"
          ],
          "name": "stderr"
        },
        {
          "output_type": "stream",
          "text": [
            "1500 | avg reward is: -6.809   |   epsilon: 0.3813   |  alpha: 0.05   |  beta: 0.5299\n"
          ],
          "name": "stdout"
        },
        {
          "output_type": "stream",
          "text": [
            "\r 57%|█████▋    | 17/30 [00:55<00:45,  3.53s/it]"
          ],
          "name": "stderr"
        },
        {
          "output_type": "stream",
          "text": [
            "1600 | avg reward is: 3.064   |   epsilon: 0.348   |  alpha: 0.05   |  beta: 0.4949\n"
          ],
          "name": "stdout"
        },
        {
          "output_type": "stream",
          "text": [
            "\r 60%|██████    | 18/30 [00:58<00:42,  3.57s/it]"
          ],
          "name": "stderr"
        },
        {
          "output_type": "stream",
          "text": [
            "1700 | avg reward is: -6.975   |   epsilon: 0.3147   |  alpha: 0.05   |  beta: 0.4599\n"
          ],
          "name": "stdout"
        },
        {
          "output_type": "stream",
          "text": [
            "\r 63%|██████▎   | 19/30 [01:02<00:39,  3.63s/it]"
          ],
          "name": "stderr"
        },
        {
          "output_type": "stream",
          "text": [
            "1800 | avg reward is: -6.974   |   epsilon: 0.2813   |  alpha: 0.05   |  beta: 0.4249\n"
          ],
          "name": "stdout"
        },
        {
          "output_type": "stream",
          "text": [
            "\r 67%|██████▋   | 20/30 [01:06<00:36,  3.68s/it]"
          ],
          "name": "stderr"
        },
        {
          "output_type": "stream",
          "text": [
            "1900 | avg reward is: -7.173   |   epsilon: 0.248   |  alpha: 0.05   |  beta: 0.3899\n"
          ],
          "name": "stdout"
        },
        {
          "output_type": "stream",
          "text": [
            "\r 70%|███████   | 21/30 [01:10<00:33,  3.73s/it]"
          ],
          "name": "stderr"
        },
        {
          "output_type": "stream",
          "text": [
            "2000 | avg reward is: 23.263   |   epsilon: 0.2147   |  alpha: 0.05   |  beta: 0.3549\n"
          ],
          "name": "stdout"
        },
        {
          "output_type": "stream",
          "text": [
            "\r 73%|███████▎  | 22/30 [01:13<00:29,  3.69s/it]"
          ],
          "name": "stderr"
        },
        {
          "output_type": "stream",
          "text": [
            "2100 | avg reward is: 93.802   |   epsilon: 0.1813   |  alpha: 0.05   |  beta: 0.3199\n"
          ],
          "name": "stdout"
        },
        {
          "output_type": "stream",
          "text": [
            "\r 77%|███████▋  | 23/30 [01:16<00:24,  3.50s/it]"
          ],
          "name": "stderr"
        },
        {
          "output_type": "stream",
          "text": [
            "2200 | avg reward is: 83.931   |   epsilon: 0.148   |  alpha: 0.05   |  beta: 0.2849\n"
          ],
          "name": "stdout"
        },
        {
          "output_type": "stream",
          "text": [
            "\r 80%|████████  | 24/30 [01:19<00:19,  3.31s/it]"
          ],
          "name": "stderr"
        },
        {
          "output_type": "stream",
          "text": [
            "2300 | avg reward is: 94.783   |   epsilon: 0.1147   |  alpha: 0.05   |  beta: 0.2499\n"
          ],
          "name": "stdout"
        },
        {
          "output_type": "stream",
          "text": [
            "\r 83%|████████▎ | 25/30 [01:22<00:15,  3.13s/it]"
          ],
          "name": "stderr"
        },
        {
          "output_type": "stream",
          "text": [
            "2400 | avg reward is: 95.507   |   epsilon: 0.0813   |  alpha: 0.05   |  beta: 0.2149\n"
          ],
          "name": "stdout"
        },
        {
          "output_type": "stream",
          "text": [
            "\r 87%|████████▋ | 26/30 [01:24<00:11,  2.90s/it]"
          ],
          "name": "stderr"
        },
        {
          "output_type": "stream",
          "text": [
            "2500 | avg reward is: 95.321   |   epsilon: 0.05   |  alpha: 0.05   |  beta: 0.1799\n"
          ],
          "name": "stdout"
        },
        {
          "output_type": "stream",
          "text": [
            "\r 90%|█████████ | 27/30 [01:27<00:08,  2.73s/it]"
          ],
          "name": "stderr"
        },
        {
          "output_type": "stream",
          "text": [
            "2600 | avg reward is: 95.544   |   epsilon: 0.05   |  alpha: 0.05   |  beta: 0.1449\n"
          ],
          "name": "stdout"
        },
        {
          "output_type": "stream",
          "text": [
            "100%|██████████| 30/30 [01:29<00:00,  2.98s/it]"
          ],
          "name": "stderr"
        },
        {
          "output_type": "stream",
          "text": [
            "2700 | avg reward is: 95.345   |   epsilon: 0.05   |  alpha: 0.05   |  beta: 0.1099\n",
            "2800 | avg reward is: 95.189   |   epsilon: 0.05   |  alpha: 0.05   |  beta: 0.1099\n",
            "2900 | avg reward is: 95.129   |   epsilon: 0.05   |  alpha: 0.05   |  beta: 0.1099\n"
          ],
          "name": "stdout"
        },
        {
          "output_type": "stream",
          "text": [
            "\n"
          ],
          "name": "stderr"
        },
        {
          "output_type": "display_data",
          "data": {
            "image/png": "[encoded data removed]",
            "text/plain": [
              "<Figure size 432x288 with 1 Axes>"
            ]
          },
          "metadata": {
            "tags": [],
            "needs_background": "light"
          }
        }
      ]
    },
    {
      "cell_type": "code",
      "metadata": {
        "id": "dI0Qsk4mGksE",
        "colab_type": "code",
        "colab": {
          "base_uri": "https://localhost:8080/",
          "height": 248
        },
        "outputId": "e8e46bd9-fb66-4fe9-d00d-352318e961e8"
      },
      "source": [
        "plot_Q(holder.Q)"
      ],
      "execution_count": 6,
      "outputs": [
        {
          "output_type": "display_data",
          "data": {
            "image/png": "[encoded data removed]",
            "text/plain": [
              "<Figure size 432x288 with 1 Axes>"
            ]
          },
          "metadata": {
            "tags": [],
            "needs_background": "light"
          }
        }
      ]
    },
    {
      "cell_type": "code",
      "metadata": {
        "id": "wYnGMKcpGaaH",
        "colab_type": "code",
        "colab": {}
      },
      "source": [
        ""
      ],
      "execution_count": 0,
      "outputs": []
    }
  ]
}